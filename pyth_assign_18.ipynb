{
 "cells": [
  {
   "cell_type": "markdown",
   "id": "a3fff58f",
   "metadata": {},
   "source": [
    "# 1."
   ]
  },
  {
   "cell_type": "code",
   "execution_count": 2,
   "id": "a57e55d4",
   "metadata": {},
   "outputs": [
    {
     "name": "stdout",
     "output_type": "stream",
     "text": [
      "Open 9-5 daily\n"
     ]
    }
   ],
   "source": [
    "# code:\n",
    "# Import the zoo module\n",
    "import zoo\n",
    "\n",
    "# Call the hours() function from the zoo module\n",
    "zoo.hours()"
   ]
  },
  {
   "cell_type": "markdown",
   "id": "4530eca6",
   "metadata": {},
   "source": [
    "# 2."
   ]
  },
  {
   "cell_type": "code",
   "execution_count": 3,
   "id": "0a3e687e",
   "metadata": {},
   "outputs": [
    {
     "name": "stdout",
     "output_type": "stream",
     "text": [
      "Open 9-5 daily\n"
     ]
    }
   ],
   "source": [
    "# code:\n",
    "# Import the zoo module as menagerie\n",
    "import zoo as menagerie\n",
    "\n",
    "# Call the hours() function from the menagerie module (which is zoo)\n",
    "menagerie.hours()"
   ]
  },
  {
   "cell_type": "markdown",
   "id": "62a18615",
   "metadata": {},
   "source": [
    "# 3."
   ]
  },
  {
   "cell_type": "code",
   "execution_count": 4,
   "id": "f5bb4a1e",
   "metadata": {},
   "outputs": [
    {
     "name": "stdout",
     "output_type": "stream",
     "text": [
      "Open 9-5 daily\n"
     ]
    }
   ],
   "source": [
    "# code:\n",
    "# Explicitly import the hours function from the zoo module\n",
    "from zoo import hours\n",
    "\n",
    "# Call the hours function directly\n",
    "hours()"
   ]
  },
  {
   "cell_type": "markdown",
   "id": "0cf52ebc",
   "metadata": {},
   "source": [
    "# 4."
   ]
  },
  {
   "cell_type": "code",
   "execution_count": null,
   "id": "ae4c4a67",
   "metadata": {},
   "outputs": [],
   "source": [
    "# code:\n",
    "# Import the hours function from the zoo module as info\n",
    "from zoo import hours as info\n",
    "\n",
    "# Call the info function directly\n",
    "info()"
   ]
  },
  {
   "cell_type": "markdown",
   "id": "9022b7ca",
   "metadata": {},
   "source": [
    "# 5."
   ]
  },
  {
   "cell_type": "code",
   "execution_count": 6,
   "id": "2ec97684",
   "metadata": {},
   "outputs": [
    {
     "name": "stdout",
     "output_type": "stream",
     "text": [
      "{'a': 1, 'b': 2, 'c': 3}\n"
     ]
    }
   ],
   "source": [
    "# Create a plain dictionary\n",
    "plain_dict = {'a': 1, 'b': 2, 'c': 3}\n",
    "\n",
    "# Print the dictionary\n",
    "print(plain_dict)"
   ]
  },
  {
   "cell_type": "markdown",
   "id": "867ef9d7",
   "metadata": {},
   "source": [
    "# 6."
   ]
  },
  {
   "cell_type": "code",
   "execution_count": 7,
   "id": "c6edc1b1",
   "metadata": {},
   "outputs": [
    {
     "name": "stdout",
     "output_type": "stream",
     "text": [
      "OrderedDict([('a', 1), ('b', 2), ('c', 3)])\n"
     ]
    }
   ],
   "source": [
    "from collections import OrderedDict\n",
    "\n",
    "# Create an OrderedDict\n",
    "fancy = OrderedDict([('a', 1), ('b', 2), ('c', 3)])\n",
    "\n",
    "# Print the OrderedDict\n",
    "print(fancy)\n",
    "#it print same order"
   ]
  },
  {
   "cell_type": "markdown",
   "id": "998fc16f",
   "metadata": {},
   "source": [
    "# 7."
   ]
  },
  {
   "cell_type": "code",
   "execution_count": 8,
   "id": "1e907315",
   "metadata": {},
   "outputs": [
    {
     "name": "stdout",
     "output_type": "stream",
     "text": [
      "['something for a']\n"
     ]
    }
   ],
   "source": [
    "# code:\n",
    "from collections import defaultdict\n",
    "\n",
    "# Create a defaultdict with default value as list\n",
    "dict_of_lists = defaultdict(list)\n",
    "\n",
    "# Append 'something for a' to the list associated with key 'a'\n",
    "dict_of_lists['a'].append('something for a')\n",
    "\n",
    "# Print the updated list for key 'a'\n",
    "print(dict_of_lists['a'])"
   ]
  },
  {
   "cell_type": "code",
   "execution_count": null,
   "id": "11d7c337",
   "metadata": {},
   "outputs": [],
   "source": []
  }
 ],
 "metadata": {
  "kernelspec": {
   "display_name": "Python 3 (ipykernel)",
   "language": "python",
   "name": "python3"
  },
  "language_info": {
   "codemirror_mode": {
    "name": "ipython",
    "version": 3
   },
   "file_extension": ".py",
   "mimetype": "text/x-python",
   "name": "python",
   "nbconvert_exporter": "python",
   "pygments_lexer": "ipython3",
   "version": "3.11.5"
  }
 },
 "nbformat": 4,
 "nbformat_minor": 5
}
